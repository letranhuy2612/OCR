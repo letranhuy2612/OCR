{
  "nbformat": 4,
  "nbformat_minor": 0,
  "metadata": {
    "colab": {
      "name": "Code_demo.ipynb",
      "provenance": []
    },
    "kernelspec": {
      "name": "python3",
      "display_name": "Python 3"
    },
    "language_info": {
      "name": "python"
    },
    "gpuClass": "standard"
  },
  "cells": [
    {
      "cell_type": "code",
      "execution_count": 1,
      "metadata": {
        "colab": {
          "base_uri": "https://localhost:8080/"
        },
        "id": "UbfxvFWPZhFX",
        "outputId": "7a0180fd-e4fd-478b-8559-e015d5dabc35"
      },
      "outputs": [
        {
          "output_type": "stream",
          "name": "stdout",
          "text": [
            "Mounted at /content/drive\n"
          ]
        }
      ],
      "source": [
        "from google.colab import drive\n",
        "drive.mount(\"/content/drive\")"
      ]
    },
    {
      "cell_type": "code",
      "source": [
        "cd /content/drive/MyDrive/PaddleOCR"
      ],
      "metadata": {
        "colab": {
          "base_uri": "https://localhost:8080/"
        },
        "id": "ooATAd9EZvCx",
        "outputId": "d45b205f-d556-45a8-ac2a-5100f82e69bb"
      },
      "execution_count": 12,
      "outputs": [
        {
          "output_type": "stream",
          "name": "stdout",
          "text": [
            "/content/drive/MyDrive/PaddleOCR\n"
          ]
        }
      ]
    },
    {
      "cell_type": "code",
      "source": [
        "!pip install paddlepaddle"
      ],
      "metadata": {
        "colab": {
          "base_uri": "https://localhost:8080/"
        },
        "id": "EIvlJYsSZyN3",
        "outputId": "40bc08ce-bf49-4587-ac7a-69dbd509c96b"
      },
      "execution_count": 13,
      "outputs": [
        {
          "output_type": "stream",
          "name": "stdout",
          "text": [
            "Looking in indexes: https://pypi.org/simple, https://us-python.pkg.dev/colab-wheels/public/simple/\n",
            "Requirement already satisfied: paddlepaddle in /usr/local/lib/python3.7/dist-packages (2.3.1)\n",
            "Requirement already satisfied: requests>=2.20.0 in /usr/local/lib/python3.7/dist-packages (from paddlepaddle) (2.23.0)\n",
            "Requirement already satisfied: numpy>=1.13 in /usr/local/lib/python3.7/dist-packages (from paddlepaddle) (1.21.6)\n",
            "Requirement already satisfied: Pillow in /usr/local/lib/python3.7/dist-packages (from paddlepaddle) (7.1.2)\n",
            "Requirement already satisfied: protobuf<=3.20.0,>=3.1.0 in /usr/local/lib/python3.7/dist-packages (from paddlepaddle) (3.17.3)\n",
            "Requirement already satisfied: six in /usr/local/lib/python3.7/dist-packages (from paddlepaddle) (1.15.0)\n",
            "Requirement already satisfied: paddle-bfloat==0.1.7 in /usr/local/lib/python3.7/dist-packages (from paddlepaddle) (0.1.7)\n",
            "Requirement already satisfied: opt-einsum==3.3.0 in /usr/local/lib/python3.7/dist-packages (from paddlepaddle) (3.3.0)\n",
            "Requirement already satisfied: decorator in /usr/local/lib/python3.7/dist-packages (from paddlepaddle) (4.4.2)\n",
            "Requirement already satisfied: astor in /usr/local/lib/python3.7/dist-packages (from paddlepaddle) (0.8.1)\n",
            "Requirement already satisfied: certifi>=2017.4.17 in /usr/local/lib/python3.7/dist-packages (from requests>=2.20.0->paddlepaddle) (2022.6.15)\n",
            "Requirement already satisfied: chardet<4,>=3.0.2 in /usr/local/lib/python3.7/dist-packages (from requests>=2.20.0->paddlepaddle) (3.0.4)\n",
            "Requirement already satisfied: urllib3!=1.25.0,!=1.25.1,<1.26,>=1.21.1 in /usr/local/lib/python3.7/dist-packages (from requests>=2.20.0->paddlepaddle) (1.24.3)\n",
            "Requirement already satisfied: idna<3,>=2.5 in /usr/local/lib/python3.7/dist-packages (from requests>=2.20.0->paddlepaddle) (2.10)\n"
          ]
        }
      ]
    },
    {
      "cell_type": "code",
      "source": [
        "cd /content/drive/MyDrive/PaddleOCR/PaddleOCR"
      ],
      "metadata": {
        "colab": {
          "base_uri": "https://localhost:8080/"
        },
        "id": "9tZT1rQ5Z2Vl",
        "outputId": "d73a42ae-5bc6-4842-8c4d-472285807c60"
      },
      "execution_count": 14,
      "outputs": [
        {
          "output_type": "stream",
          "name": "stdout",
          "text": [
            "/content/drive/MyDrive/PaddleOCR/PaddleOCR\n"
          ]
        }
      ]
    },
    {
      "cell_type": "code",
      "source": [
        "!pip install -r requirements.txt"
      ],
      "metadata": {
        "colab": {
          "base_uri": "https://localhost:8080/"
        },
        "id": "RFhlkblUZ44V",
        "outputId": "ef4e57b8-d318-4944-f9d3-3fe187c6b359"
      },
      "execution_count": 15,
      "outputs": [
        {
          "output_type": "stream",
          "name": "stdout",
          "text": [
            "Looking in indexes: https://pypi.org/simple, https://us-python.pkg.dev/colab-wheels/public/simple/\n",
            "Requirement already satisfied: shapely in /usr/local/lib/python3.7/dist-packages (from -r requirements.txt (line 1)) (1.8.2)\n",
            "Requirement already satisfied: scikit-image in /usr/local/lib/python3.7/dist-packages (from -r requirements.txt (line 2)) (0.18.3)\n",
            "Requirement already satisfied: imgaug==0.4.0 in /usr/local/lib/python3.7/dist-packages (from -r requirements.txt (line 3)) (0.4.0)\n",
            "Requirement already satisfied: pyclipper in /usr/local/lib/python3.7/dist-packages (from -r requirements.txt (line 4)) (1.3.0.post3)\n",
            "Requirement already satisfied: lmdb in /usr/local/lib/python3.7/dist-packages (from -r requirements.txt (line 5)) (0.99)\n",
            "Requirement already satisfied: tqdm in /usr/local/lib/python3.7/dist-packages (from -r requirements.txt (line 6)) (4.64.0)\n",
            "Requirement already satisfied: numpy in /usr/local/lib/python3.7/dist-packages (from -r requirements.txt (line 7)) (1.21.6)\n",
            "Requirement already satisfied: visualdl in /usr/local/lib/python3.7/dist-packages (from -r requirements.txt (line 8)) (2.3.0)\n",
            "Requirement already satisfied: rapidfuzz in /usr/local/lib/python3.7/dist-packages (from -r requirements.txt (line 9)) (2.4.2)\n",
            "Requirement already satisfied: opencv-contrib-python==4.4.0.46 in /usr/local/lib/python3.7/dist-packages (from -r requirements.txt (line 10)) (4.4.0.46)\n",
            "Requirement already satisfied: cython in /usr/local/lib/python3.7/dist-packages (from -r requirements.txt (line 11)) (0.29.30)\n",
            "Requirement already satisfied: lxml in /usr/local/lib/python3.7/dist-packages (from -r requirements.txt (line 12)) (4.2.6)\n",
            "Requirement already satisfied: premailer in /usr/local/lib/python3.7/dist-packages (from -r requirements.txt (line 13)) (3.10.0)\n",
            "Requirement already satisfied: openpyxl in /usr/local/lib/python3.7/dist-packages (from -r requirements.txt (line 14)) (3.0.10)\n",
            "Requirement already satisfied: attrdict in /usr/local/lib/python3.7/dist-packages (from -r requirements.txt (line 15)) (2.0.1)\n",
            "Requirement already satisfied: six in /usr/local/lib/python3.7/dist-packages (from imgaug==0.4.0->-r requirements.txt (line 3)) (1.15.0)\n",
            "Requirement already satisfied: matplotlib in /usr/local/lib/python3.7/dist-packages (from imgaug==0.4.0->-r requirements.txt (line 3)) (3.2.2)\n",
            "Requirement already satisfied: opencv-python in /usr/local/lib/python3.7/dist-packages (from imgaug==0.4.0->-r requirements.txt (line 3)) (4.6.0.66)\n",
            "Requirement already satisfied: imageio in /usr/local/lib/python3.7/dist-packages (from imgaug==0.4.0->-r requirements.txt (line 3)) (2.4.1)\n",
            "Requirement already satisfied: Pillow in /usr/local/lib/python3.7/dist-packages (from imgaug==0.4.0->-r requirements.txt (line 3)) (7.1.2)\n",
            "Requirement already satisfied: scipy in /usr/local/lib/python3.7/dist-packages (from imgaug==0.4.0->-r requirements.txt (line 3)) (1.7.3)\n",
            "Requirement already satisfied: networkx>=2.0 in /usr/local/lib/python3.7/dist-packages (from scikit-image->-r requirements.txt (line 2)) (2.6.3)\n",
            "Requirement already satisfied: tifffile>=2019.7.26 in /usr/local/lib/python3.7/dist-packages (from scikit-image->-r requirements.txt (line 2)) (2021.11.2)\n",
            "Requirement already satisfied: PyWavelets>=1.1.1 in /usr/local/lib/python3.7/dist-packages (from scikit-image->-r requirements.txt (line 2)) (1.3.0)\n",
            "Requirement already satisfied: kiwisolver>=1.0.1 in /usr/local/lib/python3.7/dist-packages (from matplotlib->imgaug==0.4.0->-r requirements.txt (line 3)) (1.4.4)\n",
            "Requirement already satisfied: python-dateutil>=2.1 in /usr/local/lib/python3.7/dist-packages (from matplotlib->imgaug==0.4.0->-r requirements.txt (line 3)) (2.8.2)\n",
            "Requirement already satisfied: cycler>=0.10 in /usr/local/lib/python3.7/dist-packages (from matplotlib->imgaug==0.4.0->-r requirements.txt (line 3)) (0.11.0)\n",
            "Requirement already satisfied: pyparsing!=2.0.4,!=2.1.2,!=2.1.6,>=2.0.1 in /usr/local/lib/python3.7/dist-packages (from matplotlib->imgaug==0.4.0->-r requirements.txt (line 3)) (3.0.9)\n",
            "Requirement already satisfied: typing-extensions in /usr/local/lib/python3.7/dist-packages (from kiwisolver>=1.0.1->matplotlib->imgaug==0.4.0->-r requirements.txt (line 3)) (4.1.1)\n",
            "Requirement already satisfied: protobuf>=3.11.0 in /usr/local/lib/python3.7/dist-packages (from visualdl->-r requirements.txt (line 8)) (3.17.3)\n",
            "Requirement already satisfied: pandas in /usr/local/lib/python3.7/dist-packages (from visualdl->-r requirements.txt (line 8)) (1.3.5)\n",
            "Requirement already satisfied: Flask-Babel>=1.0.0 in /usr/local/lib/python3.7/dist-packages (from visualdl->-r requirements.txt (line 8)) (2.0.0)\n",
            "Requirement already satisfied: flask>=1.1.1 in /usr/local/lib/python3.7/dist-packages (from visualdl->-r requirements.txt (line 8)) (1.1.4)\n",
            "Requirement already satisfied: requests in /usr/local/lib/python3.7/dist-packages (from visualdl->-r requirements.txt (line 8)) (2.23.0)\n",
            "Requirement already satisfied: bce-python-sdk in /usr/local/lib/python3.7/dist-packages (from visualdl->-r requirements.txt (line 8)) (0.8.74)\n",
            "Requirement already satisfied: click<8.0,>=5.1 in /usr/local/lib/python3.7/dist-packages (from flask>=1.1.1->visualdl->-r requirements.txt (line 8)) (7.1.2)\n",
            "Requirement already satisfied: Werkzeug<2.0,>=0.15 in /usr/local/lib/python3.7/dist-packages (from flask>=1.1.1->visualdl->-r requirements.txt (line 8)) (1.0.1)\n",
            "Requirement already satisfied: Jinja2<3.0,>=2.10.1 in /usr/local/lib/python3.7/dist-packages (from flask>=1.1.1->visualdl->-r requirements.txt (line 8)) (2.11.3)\n",
            "Requirement already satisfied: itsdangerous<2.0,>=0.24 in /usr/local/lib/python3.7/dist-packages (from flask>=1.1.1->visualdl->-r requirements.txt (line 8)) (1.1.0)\n",
            "Requirement already satisfied: pytz in /usr/local/lib/python3.7/dist-packages (from Flask-Babel>=1.0.0->visualdl->-r requirements.txt (line 8)) (2022.1)\n",
            "Requirement already satisfied: Babel>=2.3 in /usr/local/lib/python3.7/dist-packages (from Flask-Babel>=1.0.0->visualdl->-r requirements.txt (line 8)) (2.10.3)\n",
            "Requirement already satisfied: MarkupSafe>=0.23 in /usr/local/lib/python3.7/dist-packages (from Jinja2<3.0,>=2.10.1->flask>=1.1.1->visualdl->-r requirements.txt (line 8)) (2.0.1)\n",
            "Requirement already satisfied: jarowinkler<2.0.0,>=1.2.0 in /usr/local/lib/python3.7/dist-packages (from rapidfuzz->-r requirements.txt (line 9)) (1.2.0)\n",
            "Requirement already satisfied: cachetools in /usr/local/lib/python3.7/dist-packages (from premailer->-r requirements.txt (line 13)) (4.2.4)\n",
            "Requirement already satisfied: cssselect in /usr/local/lib/python3.7/dist-packages (from premailer->-r requirements.txt (line 13)) (1.1.0)\n",
            "Requirement already satisfied: cssutils in /usr/local/lib/python3.7/dist-packages (from premailer->-r requirements.txt (line 13)) (2.5.1)\n",
            "Requirement already satisfied: et-xmlfile in /usr/local/lib/python3.7/dist-packages (from openpyxl->-r requirements.txt (line 14)) (1.1.0)\n",
            "Requirement already satisfied: future>=0.6.0 in /usr/local/lib/python3.7/dist-packages (from bce-python-sdk->visualdl->-r requirements.txt (line 8)) (0.16.0)\n",
            "Requirement already satisfied: pycryptodome>=3.8.0 in /usr/local/lib/python3.7/dist-packages (from bce-python-sdk->visualdl->-r requirements.txt (line 8)) (3.15.0)\n",
            "Requirement already satisfied: importlib-metadata in /usr/local/lib/python3.7/dist-packages (from cssutils->premailer->-r requirements.txt (line 13)) (4.12.0)\n",
            "Requirement already satisfied: zipp>=0.5 in /usr/local/lib/python3.7/dist-packages (from importlib-metadata->cssutils->premailer->-r requirements.txt (line 13)) (3.8.1)\n",
            "Requirement already satisfied: chardet<4,>=3.0.2 in /usr/local/lib/python3.7/dist-packages (from requests->visualdl->-r requirements.txt (line 8)) (3.0.4)\n",
            "Requirement already satisfied: urllib3!=1.25.0,!=1.25.1,<1.26,>=1.21.1 in /usr/local/lib/python3.7/dist-packages (from requests->visualdl->-r requirements.txt (line 8)) (1.24.3)\n",
            "Requirement already satisfied: certifi>=2017.4.17 in /usr/local/lib/python3.7/dist-packages (from requests->visualdl->-r requirements.txt (line 8)) (2022.6.15)\n",
            "Requirement already satisfied: idna<3,>=2.5 in /usr/local/lib/python3.7/dist-packages (from requests->visualdl->-r requirements.txt (line 8)) (2.10)\n"
          ]
        }
      ]
    },
    {
      "cell_type": "code",
      "source": [
        "import cv2\n",
        "import os\n",
        "import time\n",
        "import numpy as np\n",
        "import sys\n",
        "import re\n",
        "import pandas as pd\n",
        "import matplotlib.pyplot as plt\n",
        "import matplotlib.image as img"
      ],
      "metadata": {
        "id": "s5yc-A2FZ8vR"
      },
      "execution_count": 1,
      "outputs": []
    },
    {
      "cell_type": "code",
      "source": [
        "cd /content/drive/MyDrive/PaddleOCR/PaddleOCR"
      ],
      "metadata": {
        "colab": {
          "base_uri": "https://localhost:8080/"
        },
        "id": "7Vw5tzUEafA_",
        "outputId": "f573f1a5-9d2a-4f57-dba1-b74791788822"
      },
      "execution_count": 4,
      "outputs": [
        {
          "output_type": "stream",
          "name": "stdout",
          "text": [
            "/content/drive/MyDrive/PaddleOCR/PaddleOCR\n"
          ]
        }
      ]
    },
    {
      "cell_type": "code",
      "source": [
        "from tools.infer.predict_rec import *\n",
        "import tools.infer.utility as utility\n",
        "from ppocr.postprocess import build_post_process\n",
        "from ppocr.utils.logging import get_logger\n",
        "from ppocr.utils.utility import get_image_file_list, check_and_read_gif"
      ],
      "metadata": {
        "colab": {
          "base_uri": "https://localhost:8080/"
        },
        "id": "T1YY6s0qadEd",
        "outputId": "6a9f4f5c-e17f-4c8a-f281-1e2382dfd67c"
      },
      "execution_count": 5,
      "outputs": [
        {
          "output_type": "stream",
          "name": "stderr",
          "text": [
            "/usr/local/lib/python3.7/dist-packages/yaml/constructor.py:126: DeprecationWarning: Using or importing the ABCs from 'collections' instead of from 'collections.abc' is deprecated since Python 3.3,and in 3.9 it will stop working\n",
            "  if not isinstance(key, collections.Hashable):\n"
          ]
        }
      ]
    },
    {
      "cell_type": "code",
      "source": [
        "def rec(args, out_path, input, rec_model_dir,rec_image_shape = \"3, 32, 320\", rec_char_type = \"en\", rec_algorithm = \"CRNN\", show = True, save = True):\n",
        "    # Assigning values to args as the code is not running from console.\n",
        "    args.rec_model_dir = rec_model_dir\n",
        "    args.rec_image_shape = rec_image_shape\n",
        "    args.rec_char_type = rec_char_type\n",
        "    args.rec_algorithm = rec_algorithm\n",
        "    \n",
        "\n",
        "    # Initializing some helper variables.\n",
        "    t1 = 0\n",
        "    t2 = 0\n",
        "    tot = []\n",
        "    os.chdir('./PaddleOCR')\n",
        "\n",
        "    \n",
        "    # Initializing recognizer.\n",
        "    image_file_list = get_image_file_list(input)\n",
        "    text_recognizer = TextRecognizer(args)\n",
        "    valid_image_file_list = []\n",
        "    img_list = []\n",
        "\n",
        "    # Warming up GPU to run it at its full capacity.\n",
        "    if args.warmup:\n",
        "        image = np.random.uniform(0, 255, [32, 320, 3]).astype(np.uint8)\n",
        "        for i in range(10):\n",
        "            res = text_recognizer([image])\n",
        "\n",
        "    # Đọc và thêm ảnh vào . \n",
        "    for image_file in image_file_list:\n",
        "        image, flag = check_and_read_gif(image_file)\n",
        "        if not flag:\n",
        "            image = cv2.imread(image_file)\n",
        "        if image is None:\n",
        "            logger.info(\"error in loading image:{}\".format(image_file))\n",
        "            continue\n",
        "        valid_image_file_list.append(image_file)\n",
        "        img_list.append(image)\n",
        "\n",
        "    # OCR images.\n",
        "    t1 = time.time()\n",
        "    try:\n",
        "        rec_res, _ = text_recognizer(img_list)\n",
        "    except Exception as E:\n",
        "        logger.info(traceback.format_exc())\n",
        "        logger.info(E)\n",
        "        exit()\n",
        "    \n",
        "    # Tính  FPS và hiển thị.\n",
        "    t2 = time.time()\n",
        "    fps = str(t2-t1)\n",
        "    for ino in range(len(img_list)):\n",
        "        logger.info(\"Predicts of {}:{}\".format(valid_image_file_list[ino],\n",
        "                                              rec_res[ino]))\n",
        "        if save:\n",
        "          cv2.imwrite(os.path.join(out_path,valid_image_file_list[ino].split('/')[-1].split('.')[0] + '_rec' + '.jpg'),img_list[ino])\n",
        "          with open(os.path.join(out_path,valid_image_file_list[ino].split('/')[-1].split('.')[0] + '.txt'), 'w') as f:\n",
        "            f.write(str(rec_res[ino]))\n",
        "    logger.info(\"Time taken recognize all images : {}\".format(fps))\n",
        "    print(len(image_file_list))\n",
        "    logger.info(\"Average fps : {}\".format(1/(float(fps)/len(image_file_list))))\n",
        "    \n",
        "    if show:\n",
        "      plt.figure(figsize = (25,14))\n",
        "      plt.imshow(image)\n",
        "      plt.show()"
      ],
      "metadata": {
        "id": "U1DnYr3qapDI"
      },
      "execution_count": 6,
      "outputs": []
    },
    {
      "cell_type": "code",
      "source": [
        "%cd /content/drive/MyDrive/PaddleOCR\n",
        "out_path = '/content/drive/MyDrive/PaddleOCR/val_out'\n",
        "rec_model_dir = '/content/drive/MyDrive/PaddleOCR/PaddleOCR/output/inference'\n",
        "input = '/content/drive/MyDrive/PaddleOCR/data/val'\n",
        "sys.argv = ['']\n",
        "rec(utility.parse_args(), out_path, input, rec_model_dir, show = False)"
      ],
      "metadata": {
        "colab": {
          "base_uri": "https://localhost:8080/"
        },
        "id": "NYix6ITcau2R",
        "outputId": "1a4eb9a2-d2d8-4366-b41e-31f3a516885e"
      },
      "execution_count": 7,
      "outputs": [
        {
          "output_type": "stream",
          "name": "stdout",
          "text": [
            "/content/drive/MyDrive/PaddleOCR\n",
            "[2022/08/01 09:17:13] ppocr INFO: Predicts of /content/drive/MyDrive/PaddleOCR/data/val/Screenshot_41.png:('18:45', 0.9183559417724609)\n",
            "[2022/08/01 09:17:13] ppocr INFO: Predicts of /content/drive/MyDrive/PaddleOCR/data/val/Screenshot_42.png:('9:00', 0.8100190162658691)\n",
            "[2022/08/01 09:17:13] ppocr INFO: Predicts of /content/drive/MyDrive/PaddleOCR/data/val/Screenshot_43.png:('16:00', 0.7357887029647827)\n",
            "[2022/08/01 09:17:13] ppocr INFO: Predicts of /content/drive/MyDrive/PaddleOCR/data/val/Screenshot_44.png:('17:00', 0.8723136186599731)\n",
            "[2022/08/01 09:17:13] ppocr INFO: Predicts of /content/drive/MyDrive/PaddleOCR/data/val/Screenshot_45.png:('7:10', 0.909076452255249)\n",
            "[2022/08/01 09:17:13] ppocr INFO: Predicts of /content/drive/MyDrive/PaddleOCR/data/val/Screenshot_46.png:('8:45', 0.9550472497940063)\n",
            "[2022/08/01 09:17:13] ppocr INFO: Predicts of /content/drive/MyDrive/PaddleOCR/data/val/Screenshot_47.png:('15:00', 0.991582989692688)\n",
            "[2022/08/01 09:17:13] ppocr INFO: Predicts of /content/drive/MyDrive/PaddleOCR/data/val/Screenshot_48.png:('17:45', 0.9527597427368164)\n",
            "[2022/08/01 09:17:13] ppocr INFO: Predicts of /content/drive/MyDrive/PaddleOCR/data/val/Screenshot_49.png:('15:45', 0.9644045829772949)\n",
            "[2022/08/01 09:17:13] ppocr INFO: Predicts of /content/drive/MyDrive/PaddleOCR/data/val/Screenshot_50.png:('23:45', 0.9761999845504761)\n",
            "[2022/08/01 09:17:13] ppocr INFO: Time taken recognize all images : 0.5109410285949707\n",
            "10\n",
            "[2022/08/01 09:17:13] ppocr INFO: Average fps : 19.57173027873462\n"
          ]
        }
      ]
    },
    {
      "cell_type": "code",
      "source": [
        "%cd /content/drive/MyDrive/PaddleOCR\n",
        "out_path = '/content/drive/MyDrive/PaddleOCR/break_time_out'\n",
        "rec_model_dir = '/content/drive/MyDrive/PaddleOCR/PaddleOCR/output/inference'\n",
        "input = '/content/drive/MyDrive/PaddleOCR/break_time'\n",
        "sys.argv = ['']\n",
        "rec(utility.parse_args(), out_path, input, rec_model_dir, show = False)"
      ],
      "metadata": {
        "colab": {
          "base_uri": "https://localhost:8080/"
        },
        "id": "78pklL4gxaDy",
        "outputId": "a54bafcc-41cf-4e47-aa74-5c0b886079a7"
      },
      "execution_count": 8,
      "outputs": [
        {
          "output_type": "stream",
          "name": "stdout",
          "text": [
            "/content/drive/MyDrive/PaddleOCR\n",
            "[2022/08/01 09:39:52] ppocr INFO: Predicts of /content/drive/MyDrive/PaddleOCR/break_time/104.jpg:('8000', 0.32733720541000366)\n",
            "[2022/08/01 09:39:52] ppocr INFO: Predicts of /content/drive/MyDrive/PaddleOCR/break_time/120.jpg:('80', 0.613327145576477)\n",
            "[2022/08/01 09:39:52] ppocr INFO: Predicts of /content/drive/MyDrive/PaddleOCR/break_time/123.jpg:('7:0', 0.5912773013114929)\n",
            "[2022/08/01 09:39:52] ppocr INFO: Predicts of /content/drive/MyDrive/PaddleOCR/break_time/136.jpg:('F8', 0.6058065891265869)\n",
            "[2022/08/01 09:39:52] ppocr INFO: Predicts of /content/drive/MyDrive/PaddleOCR/break_time/142.jpg:(':0', 0.5933154225349426)\n",
            "[2022/08/01 09:39:52] ppocr INFO: Predicts of /content/drive/MyDrive/PaddleOCR/break_time/152.jpg:('80', 0.6765602827072144)\n",
            "[2022/08/01 09:39:52] ppocr INFO: Predicts of /content/drive/MyDrive/PaddleOCR/break_time/161.jpg:('1:0', 0.7400164008140564)\n",
            "[2022/08/01 09:39:52] ppocr INFO: Predicts of /content/drive/MyDrive/PaddleOCR/break_time/168.jpg:('8', 0.868756890296936)\n",
            "[2022/08/01 09:39:52] ppocr INFO: Predicts of /content/drive/MyDrive/PaddleOCR/break_time/180.jpg:('1:0', 0.6934995055198669)\n",
            "[2022/08/01 09:39:52] ppocr INFO: Predicts of /content/drive/MyDrive/PaddleOCR/break_time/184.jpg:('00', 0.4141281247138977)\n",
            "[2022/08/01 09:39:52] ppocr INFO: Predicts of /content/drive/MyDrive/PaddleOCR/break_time/199.jpg:('Y', 0.31981703639030457)\n",
            "[2022/08/01 09:39:52] ppocr INFO: Predicts of /content/drive/MyDrive/PaddleOCR/break_time/200.jpg:('.', 0.12889371812343597)\n",
            "[2022/08/01 09:39:52] ppocr INFO: Predicts of /content/drive/MyDrive/PaddleOCR/break_time/216.jpg:('75', 0.8749609589576721)\n",
            "[2022/08/01 09:39:52] ppocr INFO: Predicts of /content/drive/MyDrive/PaddleOCR/break_time/218.jpg:('', 0.0)\n",
            "[2022/08/01 09:39:52] ppocr INFO: Predicts of /content/drive/MyDrive/PaddleOCR/break_time/232.jpg:('#726', 0.6469887495040894)\n",
            "[2022/08/01 09:39:52] ppocr INFO: Predicts of /content/drive/MyDrive/PaddleOCR/break_time/237.jpg:(':', 0.30508920550346375)\n",
            "[2022/08/01 09:39:52] ppocr INFO: Predicts of /content/drive/MyDrive/PaddleOCR/break_time/24.jpg:('r00', 0.47922810912132263)\n",
            "[2022/08/01 09:39:52] ppocr INFO: Predicts of /content/drive/MyDrive/PaddleOCR/break_time/248.jpg:('728', 0.5787486433982849)\n",
            "[2022/08/01 09:39:52] ppocr INFO: Predicts of /content/drive/MyDrive/PaddleOCR/break_time/256.jpg:('1:00', 0.6781307458877563)\n",
            "[2022/08/01 09:39:52] ppocr INFO: Predicts of /content/drive/MyDrive/PaddleOCR/break_time/264.jpg:('72', 0.5335857272148132)\n",
            "[2022/08/01 09:39:52] ppocr INFO: Predicts of /content/drive/MyDrive/PaddleOCR/break_time/275.jpg:('7:0', 0.6935357451438904)\n",
            "[2022/08/01 09:39:52] ppocr INFO: Predicts of /content/drive/MyDrive/PaddleOCR/break_time/28.jpg:('', 0.0)\n",
            "[2022/08/01 09:39:52] ppocr INFO: Predicts of /content/drive/MyDrive/PaddleOCR/break_time/280.jpg:('8000', 0.5189899206161499)\n",
            "[2022/08/01 09:39:52] ppocr INFO: Predicts of /content/drive/MyDrive/PaddleOCR/break_time/294.jpg:('1:0', 0.795078456401825)\n",
            "[2022/08/01 09:39:52] ppocr INFO: Predicts of /content/drive/MyDrive/PaddleOCR/break_time/296.jpg:('7:2', 0.6892711520195007)\n",
            "[2022/08/01 09:39:52] ppocr INFO: Predicts of /content/drive/MyDrive/PaddleOCR/break_time/312.jpg:('726', 0.5496100187301636)\n",
            "[2022/08/01 09:39:52] ppocr INFO: Predicts of /content/drive/MyDrive/PaddleOCR/break_time/313.jpg:('1:', 0.6168618202209473)\n",
            "[2022/08/01 09:39:52] ppocr INFO: Predicts of /content/drive/MyDrive/PaddleOCR/break_time/328.jpg:('', 0.0)\n",
            "[2022/08/01 09:39:52] ppocr INFO: Predicts of /content/drive/MyDrive/PaddleOCR/break_time/332.jpg:('', 0.0)\n",
            "[2022/08/01 09:39:52] ppocr INFO: Predicts of /content/drive/MyDrive/PaddleOCR/break_time/344.jpg:('72', 0.498261034488678)\n",
            "[2022/08/01 09:39:52] ppocr INFO: Predicts of /content/drive/MyDrive/PaddleOCR/break_time/351.jpg:('', 0.0)\n",
            "[2022/08/01 09:39:52] ppocr INFO: Predicts of /content/drive/MyDrive/PaddleOCR/break_time/360.jpg:('0', 0.30428382754325867)\n",
            "[2022/08/01 09:39:52] ppocr INFO: Predicts of /content/drive/MyDrive/PaddleOCR/break_time/370.jpg:(':', 0.7095637917518616)\n",
            "[2022/08/01 09:39:52] ppocr INFO: Predicts of /content/drive/MyDrive/PaddleOCR/break_time/376.jpg:('F80', 0.6677711606025696)\n",
            "[2022/08/01 09:39:52] ppocr INFO: Predicts of /content/drive/MyDrive/PaddleOCR/break_time/389.jpg:('10', 0.3045031428337097)\n",
            "[2022/08/01 09:39:52] ppocr INFO: Predicts of /content/drive/MyDrive/PaddleOCR/break_time/392.jpg:('8', 0.9253588318824768)\n",
            "[2022/08/01 09:39:52] ppocr INFO: Predicts of /content/drive/MyDrive/PaddleOCR/break_time/40.jpg:('800', 0.6534001231193542)\n",
            "[2022/08/01 09:39:52] ppocr INFO: Predicts of /content/drive/MyDrive/PaddleOCR/break_time/408.jpg:('85', 0.5774182677268982)\n",
            "[2022/08/01 09:39:52] ppocr INFO: Predicts of /content/drive/MyDrive/PaddleOCR/break_time/424.jpg:('80', 0.43511372804641724)\n",
            "[2022/08/01 09:39:52] ppocr INFO: Predicts of /content/drive/MyDrive/PaddleOCR/break_time/427.jpg:('1:0', 0.7550669312477112)\n",
            "[2022/08/01 09:39:52] ppocr INFO: Predicts of /content/drive/MyDrive/PaddleOCR/break_time/440.jpg:('%', 0.16726697981357574)\n",
            "[2022/08/01 09:39:53] ppocr INFO: Predicts of /content/drive/MyDrive/PaddleOCR/break_time/446.jpg:(':', 0.39411017298698425)\n",
            "[2022/08/01 09:39:53] ppocr INFO: Predicts of /content/drive/MyDrive/PaddleOCR/break_time/456.jpg:('B00', 0.4538237154483795)\n",
            "[2022/08/01 09:39:53] ppocr INFO: Predicts of /content/drive/MyDrive/PaddleOCR/break_time/465.jpg:('', 0.0)\n",
            "[2022/08/01 09:39:53] ppocr INFO: Predicts of /content/drive/MyDrive/PaddleOCR/break_time/47.jpg:('T:', 0.6563079953193665)\n",
            "[2022/08/01 09:39:53] ppocr INFO: Predicts of /content/drive/MyDrive/PaddleOCR/break_time/472.jpg:('7:26', 0.42790380120277405)\n",
            "[2022/08/01 09:39:53] ppocr INFO: Predicts of /content/drive/MyDrive/PaddleOCR/break_time/484.jpg:('', 0.0)\n",
            "[2022/08/01 09:39:53] ppocr INFO: Predicts of /content/drive/MyDrive/PaddleOCR/break_time/488.jpg:('7.25', 0.5983400940895081)\n",
            "[2022/08/01 09:39:53] ppocr INFO: Predicts of /content/drive/MyDrive/PaddleOCR/break_time/503.jpg:('1:00', 0.7099494934082031)\n",
            "[2022/08/01 09:39:53] ppocr INFO: Predicts of /content/drive/MyDrive/PaddleOCR/break_time/504.jpg:('785', 0.4574759304523468)\n",
            "[2022/08/01 09:39:53] ppocr INFO: Predicts of /content/drive/MyDrive/PaddleOCR/break_time/513.jpg:('reea', 0.4841645658016205)\n",
            "[2022/08/01 09:39:53] ppocr INFO: Predicts of /content/drive/MyDrive/PaddleOCR/break_time/520.jpg:('', 0.0)\n",
            "[2022/08/01 09:39:53] ppocr INFO: Predicts of /content/drive/MyDrive/PaddleOCR/break_time/522.jpg:('1:0', 0.797048032283783)\n",
            "[2022/08/01 09:39:53] ppocr INFO: Predicts of /content/drive/MyDrive/PaddleOCR/break_time/541.jpg:('1:00', 0.7300007343292236)\n",
            "[2022/08/01 09:39:53] ppocr INFO: Predicts of /content/drive/MyDrive/PaddleOCR/break_time/56.jpg:('', 0.0)\n",
            "[2022/08/01 09:39:53] ppocr INFO: Predicts of /content/drive/MyDrive/PaddleOCR/break_time/560.jpg:('1:00', 0.763617992401123)\n",
            "[2022/08/01 09:39:53] ppocr INFO: Predicts of /content/drive/MyDrive/PaddleOCR/break_time/579.jpg:('', 0.0)\n",
            "[2022/08/01 09:39:53] ppocr INFO: Predicts of /content/drive/MyDrive/PaddleOCR/break_time/598.jpg:('n', 0.30313828587532043)\n",
            "[2022/08/01 09:39:53] ppocr INFO: Predicts of /content/drive/MyDrive/PaddleOCR/break_time/617.jpg:('', 0.0)\n",
            "[2022/08/01 09:39:53] ppocr INFO: Predicts of /content/drive/MyDrive/PaddleOCR/break_time/630.jpg:('20:00', 0.8944293856620789)\n",
            "[2022/08/01 09:39:53] ppocr INFO: Predicts of /content/drive/MyDrive/PaddleOCR/break_time/66.jpg:('Y', 0.3508807122707367)\n",
            "[2022/08/01 09:39:53] ppocr INFO: Predicts of /content/drive/MyDrive/PaddleOCR/break_time/72.jpg:('7', 0.48960956931114197)\n",
            "[2022/08/01 09:39:53] ppocr INFO: Predicts of /content/drive/MyDrive/PaddleOCR/break_time/85.jpg:('', 0.0)\n",
            "[2022/08/01 09:39:53] ppocr INFO: Predicts of /content/drive/MyDrive/PaddleOCR/break_time/88.jpg:('P.o', 0.4939018189907074)\n",
            "[2022/08/01 09:39:53] ppocr INFO: Time taken recognize all images : 3.240481376647949\n",
            "64\n",
            "[2022/08/01 09:39:53] ppocr INFO: Average fps : 19.750152079628215\n"
          ]
        }
      ]
    },
    {
      "cell_type": "code",
      "source": [
        "def rec2(args, out_path, input, rec_model_dir,rec_image_shape = \"3, 32, 320\", rec_char_type = \"en\", rec_algorithm = \"CRNN\", show = True, save = True):\n",
        "    # Assigning values to args as the code is not running from console.\n",
        "    args.rec_model_dir = rec_model_dir\n",
        "    args.rec_image_shape = rec_image_shape\n",
        "    args.rec_char_type = rec_char_type\n",
        "    args.rec_algorithm = rec_algorithm\n",
        "    \n",
        "\n",
        "    # Initializing some helper variables.\n",
        "    t1 = 0\n",
        "    t2 = 0\n",
        "    tot = []\n",
        "    os.chdir('./PaddleOCR')\n",
        "\n",
        "    \n",
        "    # Initializing recognizer.\n",
        "    image_file_list = get_image_file_list(input)\n",
        "    text_recognizer = TextRecognizer(args)\n",
        "    valid_image_file_list = []\n",
        "    img_list = []\n",
        "\n",
        "    # Warming up GPU to run it at its full capacity.\n",
        "    if args.warmup:\n",
        "        image = np.random.uniform(0, 255, [32, 320, 3]).astype(np.uint8)\n",
        "        for i in range(10):\n",
        "            res = text_recognizer([image])\n",
        "\n",
        "    # Đọc và thêm ảnh vào . \n",
        "    for image_file in image_file_list:\n",
        "        image, flag = check_and_read_gif(image_file)\n",
        "        if not flag:\n",
        "            image = cv2.imread(image_file)\n",
        "            image = cv2.cvtColor(image, cv2.COLOR_BGR2GRAY)\n",
        "            image = cv2.threshold(cv2.medianBlur(image, 3), 0, 255, cv2.THRESH_BINARY + cv2.THRESH_OTSU)[1]\n",
        "        if image is None:\n",
        "            logger.info(\"error in loading image:{}\".format(image_file))\n",
        "            continue\n",
        "        valid_image_file_list.append(image_file)\n",
        "        img_list.append(image)\n",
        "\n",
        "    # OCR images.\n",
        "    t1 = time.time()\n",
        "    try:\n",
        "        rec_res, _ = text_recognizer(img_list)\n",
        "    except Exception as E:\n",
        "        logger.info(traceback.format_exc())\n",
        "        logger.info(E)\n",
        "        exit()\n",
        "    \n",
        "    # Tính  FPS và hiển thị.\n",
        "    t2 = time.time()\n",
        "    fps = str(t2-t1)\n",
        "    for ino in range(len(img_list)):\n",
        "        logger.info(\"Predicts of {}:{}\".format(valid_image_file_list[ino],\n",
        "                                              rec_res[ino]))\n",
        "        if save:\n",
        "          cv2.imwrite(os.path.join(out_path,valid_image_file_list[ino].split('/')[-1].split('.')[0] + '_rec' + '.jpg'),img_list[ino])\n",
        "          with open(os.path.join(out_path,valid_image_file_list[ino].split('/')[-1].split('.')[0] + '.txt'), 'w') as f:\n",
        "            f.write(str(rec_res[ino]))\n",
        "    logger.info(\"Time taken recognize all images : {}\".format(fps))\n",
        "    print(len(image_file_list))\n",
        "    logger.info(\"Average fps : {}\".format(1/(float(fps)/len(image_file_list))))\n",
        "    \n",
        "    if show:\n",
        "      plt.figure(figsize = (25,14))\n",
        "      plt.imshow(image)\n",
        "      plt.show()"
      ],
      "metadata": {
        "id": "pA1E5cBexs2o"
      },
      "execution_count": 9,
      "outputs": []
    },
    {
      "cell_type": "code",
      "source": [
        "%cd /content/drive/MyDrive/PaddleOCR\n",
        "out_path = '/content/drive/MyDrive/PaddleOCR/break_time_cv2'\n",
        "rec_model_dir = '/content/drive/MyDrive/PaddleOCR/PaddleOCR/output/inference'\n",
        "input = '/content/drive/MyDrive/PaddleOCR/break_time'\n",
        "sys.argv = ['']\n",
        "rec2(utility.parse_args(), out_path, input, rec_model_dir, show = False)"
      ],
      "metadata": {
        "id": "VHIcwdMXyWSg"
      },
      "execution_count": null,
      "outputs": []
    },
    {
      "cell_type": "code",
      "source": [
        "def disp(pth, gt_annot = '', gt = False, out = False, num = 10):\n",
        "  img_arr = []\n",
        "  annot_arr = []\n",
        "  \n",
        "  # Appending image array into a list.\n",
        "  for fimg in sorted((os.listdir(pth))):\n",
        "    if fimg.endswith('.jpg') or fimg.endswith('.png'):\n",
        "      demo = img.imread(pth+fimg) \n",
        "      img_arr.append(demo)\n",
        "      \n",
        "      # Appending dataset output into a list (OCR outputs are stored in different text files for every image).\n",
        "      if out:\n",
        "        with open(pth + ''.join(fimg)[:-8]+ '.txt') as f:\n",
        "          out = f. read()\n",
        "          f.close()\n",
        "        annot_arr.append(out.lower())\n",
        "        \n",
        "      # Appending ground truth annotations into a list (Ground truth of all images are stored in a single text file).\n",
        "      if gt:\n",
        "        with open(gt_annot) as f:\n",
        "          for line in f:\n",
        "            if line.split(',')[0][4:] == fimg: \n",
        "              gt = line.split(',')[1].lower()\n",
        "              annot_arr.append(gt)\n",
        "              break\n",
        "\n",
        "      if len(img_arr) == num:\n",
        "          break\n",
        "\n",
        "  # Displaying the images along with labels.\n",
        "  _, axs = plt.subplots(2, 5, figsize=(25, 14))\n",
        "  axs = axs.flatten()\n",
        "  for cent, ax,val  in zip(img_arr, axs, annot_arr):\n",
        "      ax.imshow(cent)\n",
        "      ax.set_title(val,fontsize=25)\n",
        "  plt.show()"
      ],
      "metadata": {
        "id": "knZFoiEidPEA"
      },
      "execution_count": 3,
      "outputs": []
    }
  ]
}